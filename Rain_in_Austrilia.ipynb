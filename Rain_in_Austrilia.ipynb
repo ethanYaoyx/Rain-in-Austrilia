{
 "cells": [
  {
   "cell_type": "markdown",
   "id": "d63e9d71-d02d-4208-8558-ce9e03422c86",
   "metadata": {
    "ExecuteTime": {
     "end_time": "2024-05-14T23:53:43.934333500Z",
     "start_time": "2024-05-14T23:53:43.921994700Z"
    }
   },
   "source": [
    "## Project description\n",
    "Predict next-day rain by training classification models on the target variable RainTomorrow."
   ]
  },
  {
   "cell_type": "code",
   "execution_count": 2,
   "id": "79212919-0afc-4473-97f4-ad9b735bbcec",
   "metadata": {
    "ExecuteTime": {
     "end_time": "2024-05-15T00:31:38.893572900Z",
     "start_time": "2024-05-15T00:31:38.498682800Z"
    }
   },
   "outputs": [],
   "source": [
    "import pandas as pd"
   ]
  },
  {
   "cell_type": "markdown",
   "id": "11d61e96-5ba9-4eb1-aca1-c02ba6477338",
   "metadata": {},
   "source": [
    "## 1.EDA & Fearure engineering"
   ]
  },
  {
   "cell_type": "code",
   "execution_count": 3,
   "id": "f07295f9-f020-41f3-a7c3-2631d6ba110a",
   "metadata": {
    "ExecuteTime": {
     "end_time": "2024-05-15T00:31:39.104537600Z",
     "start_time": "2024-05-15T00:31:38.892526Z"
    }
   },
   "outputs": [
    {
     "data": {
      "text/plain": "         Date Location  MinTemp  MaxTemp  Rainfall  Evaporation  Sunshine  \\\n0  2008-12-01   Albury     13.4     22.9       0.6          NaN       NaN   \n1  2008-12-02   Albury      7.4     25.1       0.0          NaN       NaN   \n2  2008-12-03   Albury     12.9     25.7       0.0          NaN       NaN   \n3  2008-12-04   Albury      9.2     28.0       0.0          NaN       NaN   \n4  2008-12-05   Albury     17.5     32.3       1.0          NaN       NaN   \n\n  WindGustDir  WindGustSpeed WindDir9am  ... Humidity9am  Humidity3pm  \\\n0           W           44.0          W  ...        71.0         22.0   \n1         WNW           44.0        NNW  ...        44.0         25.0   \n2         WSW           46.0          W  ...        38.0         30.0   \n3          NE           24.0         SE  ...        45.0         16.0   \n4           W           41.0        ENE  ...        82.0         33.0   \n\n   Pressure9am  Pressure3pm  Cloud9am  Cloud3pm  Temp9am  Temp3pm  RainToday  \\\n0       1007.7       1007.1       8.0       NaN     16.9     21.8         No   \n1       1010.6       1007.8       NaN       NaN     17.2     24.3         No   \n2       1007.6       1008.7       NaN       2.0     21.0     23.2         No   \n3       1017.6       1012.8       NaN       NaN     18.1     26.5         No   \n4       1010.8       1006.0       7.0       8.0     17.8     29.7         No   \n\n   RainTomorrow  \n0            No  \n1            No  \n2            No  \n3            No  \n4            No  \n\n[5 rows x 23 columns]",
      "text/html": "<div>\n<style scoped>\n    .dataframe tbody tr th:only-of-type {\n        vertical-align: middle;\n    }\n\n    .dataframe tbody tr th {\n        vertical-align: top;\n    }\n\n    .dataframe thead th {\n        text-align: right;\n    }\n</style>\n<table border=\"1\" class=\"dataframe\">\n  <thead>\n    <tr style=\"text-align: right;\">\n      <th></th>\n      <th>Date</th>\n      <th>Location</th>\n      <th>MinTemp</th>\n      <th>MaxTemp</th>\n      <th>Rainfall</th>\n      <th>Evaporation</th>\n      <th>Sunshine</th>\n      <th>WindGustDir</th>\n      <th>WindGustSpeed</th>\n      <th>WindDir9am</th>\n      <th>...</th>\n      <th>Humidity9am</th>\n      <th>Humidity3pm</th>\n      <th>Pressure9am</th>\n      <th>Pressure3pm</th>\n      <th>Cloud9am</th>\n      <th>Cloud3pm</th>\n      <th>Temp9am</th>\n      <th>Temp3pm</th>\n      <th>RainToday</th>\n      <th>RainTomorrow</th>\n    </tr>\n  </thead>\n  <tbody>\n    <tr>\n      <th>0</th>\n      <td>2008-12-01</td>\n      <td>Albury</td>\n      <td>13.4</td>\n      <td>22.9</td>\n      <td>0.6</td>\n      <td>NaN</td>\n      <td>NaN</td>\n      <td>W</td>\n      <td>44.0</td>\n      <td>W</td>\n      <td>...</td>\n      <td>71.0</td>\n      <td>22.0</td>\n      <td>1007.7</td>\n      <td>1007.1</td>\n      <td>8.0</td>\n      <td>NaN</td>\n      <td>16.9</td>\n      <td>21.8</td>\n      <td>No</td>\n      <td>No</td>\n    </tr>\n    <tr>\n      <th>1</th>\n      <td>2008-12-02</td>\n      <td>Albury</td>\n      <td>7.4</td>\n      <td>25.1</td>\n      <td>0.0</td>\n      <td>NaN</td>\n      <td>NaN</td>\n      <td>WNW</td>\n      <td>44.0</td>\n      <td>NNW</td>\n      <td>...</td>\n      <td>44.0</td>\n      <td>25.0</td>\n      <td>1010.6</td>\n      <td>1007.8</td>\n      <td>NaN</td>\n      <td>NaN</td>\n      <td>17.2</td>\n      <td>24.3</td>\n      <td>No</td>\n      <td>No</td>\n    </tr>\n    <tr>\n      <th>2</th>\n      <td>2008-12-03</td>\n      <td>Albury</td>\n      <td>12.9</td>\n      <td>25.7</td>\n      <td>0.0</td>\n      <td>NaN</td>\n      <td>NaN</td>\n      <td>WSW</td>\n      <td>46.0</td>\n      <td>W</td>\n      <td>...</td>\n      <td>38.0</td>\n      <td>30.0</td>\n      <td>1007.6</td>\n      <td>1008.7</td>\n      <td>NaN</td>\n      <td>2.0</td>\n      <td>21.0</td>\n      <td>23.2</td>\n      <td>No</td>\n      <td>No</td>\n    </tr>\n    <tr>\n      <th>3</th>\n      <td>2008-12-04</td>\n      <td>Albury</td>\n      <td>9.2</td>\n      <td>28.0</td>\n      <td>0.0</td>\n      <td>NaN</td>\n      <td>NaN</td>\n      <td>NE</td>\n      <td>24.0</td>\n      <td>SE</td>\n      <td>...</td>\n      <td>45.0</td>\n      <td>16.0</td>\n      <td>1017.6</td>\n      <td>1012.8</td>\n      <td>NaN</td>\n      <td>NaN</td>\n      <td>18.1</td>\n      <td>26.5</td>\n      <td>No</td>\n      <td>No</td>\n    </tr>\n    <tr>\n      <th>4</th>\n      <td>2008-12-05</td>\n      <td>Albury</td>\n      <td>17.5</td>\n      <td>32.3</td>\n      <td>1.0</td>\n      <td>NaN</td>\n      <td>NaN</td>\n      <td>W</td>\n      <td>41.0</td>\n      <td>ENE</td>\n      <td>...</td>\n      <td>82.0</td>\n      <td>33.0</td>\n      <td>1010.8</td>\n      <td>1006.0</td>\n      <td>7.0</td>\n      <td>8.0</td>\n      <td>17.8</td>\n      <td>29.7</td>\n      <td>No</td>\n      <td>No</td>\n    </tr>\n  </tbody>\n</table>\n<p>5 rows × 23 columns</p>\n</div>"
     },
     "execution_count": 3,
     "metadata": {},
     "output_type": "execute_result"
    }
   ],
   "source": [
    "df = pd.read_csv('weatherAUS.csv')\n",
    "df.head()"
   ]
  },
  {
   "cell_type": "code",
   "execution_count": 4,
   "id": "3d709458-8d45-4a44-b149-636469dbffe7",
   "metadata": {
    "ExecuteTime": {
     "end_time": "2024-05-15T00:31:39.163361600Z",
     "start_time": "2024-05-15T00:31:39.093130800Z"
    }
   },
   "outputs": [
    {
     "name": "stdout",
     "output_type": "stream",
     "text": [
      "<class 'pandas.core.frame.DataFrame'>\n",
      "RangeIndex: 145460 entries, 0 to 145459\n",
      "Data columns (total 23 columns):\n",
      " #   Column         Non-Null Count   Dtype  \n",
      "---  ------         --------------   -----  \n",
      " 0   Date           145460 non-null  object \n",
      " 1   Location       145460 non-null  object \n",
      " 2   MinTemp        143975 non-null  float64\n",
      " 3   MaxTemp        144199 non-null  float64\n",
      " 4   Rainfall       142199 non-null  float64\n",
      " 5   Evaporation    82670 non-null   float64\n",
      " 6   Sunshine       75625 non-null   float64\n",
      " 7   WindGustDir    135134 non-null  object \n",
      " 8   WindGustSpeed  135197 non-null  float64\n",
      " 9   WindDir9am     134894 non-null  object \n",
      " 10  WindDir3pm     141232 non-null  object \n",
      " 11  WindSpeed9am   143693 non-null  float64\n",
      " 12  WindSpeed3pm   142398 non-null  float64\n",
      " 13  Humidity9am    142806 non-null  float64\n",
      " 14  Humidity3pm    140953 non-null  float64\n",
      " 15  Pressure9am    130395 non-null  float64\n",
      " 16  Pressure3pm    130432 non-null  float64\n",
      " 17  Cloud9am       89572 non-null   float64\n",
      " 18  Cloud3pm       86102 non-null   float64\n",
      " 19  Temp9am        143693 non-null  float64\n",
      " 20  Temp3pm        141851 non-null  float64\n",
      " 21  RainToday      142199 non-null  object \n",
      " 22  RainTomorrow   142193 non-null  object \n",
      "dtypes: float64(16), object(7)\n",
      "memory usage: 25.5+ MB\n"
     ]
    }
   ],
   "source": [
    "df.info()"
   ]
  },
  {
   "cell_type": "code",
   "execution_count": 5,
   "id": "73ea5f81-6c70-4e3b-aef3-14ea7823ed8b",
   "metadata": {
    "ExecuteTime": {
     "end_time": "2024-05-15T00:31:39.258374200Z",
     "start_time": "2024-05-15T00:31:39.141276500Z"
    }
   },
   "outputs": [
    {
     "name": "stdout",
     "output_type": "stream",
     "text": [
      "['MinTemp', 'MaxTemp', 'Rainfall', 'Evaporation', 'Sunshine', 'WindGustDir', 'WindGustSpeed', 'WindDir9am', 'WindDir3pm', 'WindSpeed9am', 'WindSpeed3pm', 'Humidity9am', 'Humidity3pm', 'Pressure9am', 'Pressure3pm', 'Cloud9am', 'Cloud3pm', 'Temp9am', 'Temp3pm', 'RainToday', 'RainTomorrow']\n"
     ]
    }
   ],
   "source": [
    "missing_values = df.isnull().any()\n",
    "missing_index = missing_values[missing_values].index.tolist()\n",
    "print(missing_index)"
   ]
  },
  {
   "cell_type": "code",
   "execution_count": 6,
   "id": "bce83186-d04a-42f7-84c8-87200c398ddf",
   "metadata": {
    "ExecuteTime": {
     "end_time": "2024-05-15T00:31:39.287197900Z",
     "start_time": "2024-05-15T00:31:39.188240600Z"
    }
   },
   "outputs": [
    {
     "name": "stdout",
     "output_type": "stream",
     "text": [
      "Date                 0\n",
      "Location             0\n",
      "MinTemp           1485\n",
      "MaxTemp           1261\n",
      "Rainfall          3261\n",
      "Evaporation      62790\n",
      "Sunshine         69835\n",
      "WindGustDir      10326\n",
      "WindGustSpeed    10263\n",
      "WindDir9am       10566\n",
      "WindDir3pm        4228\n",
      "WindSpeed9am      1767\n",
      "WindSpeed3pm      3062\n",
      "Humidity9am       2654\n",
      "Humidity3pm       4507\n",
      "Pressure9am      15065\n",
      "Pressure3pm      15028\n",
      "Cloud9am         55888\n",
      "Cloud3pm         59358\n",
      "Temp9am           1767\n",
      "Temp3pm           3609\n",
      "RainToday         3261\n",
      "RainTomorrow      3267\n",
      "dtype: int64\n"
     ]
    }
   ],
   "source": [
    "missing_count = df.isnull().sum()\n",
    "\n",
    "\n",
    "pd.set_option('display.max_rows', None) \n",
    "pd.set_option('display.max_columns', None)  \n",
    "pd.set_option('display.width', 1000)  \n",
    "\n",
    "print(missing_count)"
   ]
  },
  {
   "cell_type": "markdown",
   "id": "dad86a11-0aad-4cbb-af56-43e561189f7c",
   "metadata": {},
   "source": [
    "### 1.1 missing data"
   ]
  },
  {
   "cell_type": "code",
   "execution_count": 7,
   "id": "8420ce9e-2121-4d2a-b6ad-34f9fd3a63e0",
   "metadata": {
    "ExecuteTime": {
     "end_time": "2024-05-15T00:31:39.350637100Z",
     "start_time": "2024-05-15T00:31:39.234164400Z"
    }
   },
   "outputs": [],
   "source": [
    "df = df.dropna(subset=['RainTomorrow'])"
   ]
  },
  {
   "cell_type": "code",
   "execution_count": 8,
   "id": "007064a3-dac8-40f0-9dd1-8e58e8c02052",
   "metadata": {
    "ExecuteTime": {
     "end_time": "2024-05-15T00:31:39.351769200Z",
     "start_time": "2024-05-15T00:31:39.264586600Z"
    }
   },
   "outputs": [],
   "source": [
    "df = df.drop(['Date'],axis = 1)"
   ]
  },
  {
   "cell_type": "code",
   "execution_count": 9,
   "id": "91a08432-d74c-4f09-a826-573b4382b61e",
   "metadata": {
    "ExecuteTime": {
     "end_time": "2024-05-15T00:31:39.353847Z",
     "start_time": "2024-05-15T00:31:39.280964500Z"
    }
   },
   "outputs": [
    {
     "data": {
      "text/plain": "array([     nan, 1.20e+01, 1.48e+01, 1.26e+01, 1.08e+01, 1.14e+01,\n       1.12e+01, 1.30e+01, 9.80e+00, 1.46e+01, 1.10e+01, 1.28e+01,\n       1.38e+01, 1.64e+01, 1.74e+01, 1.60e+01, 1.36e+01, 8.00e+00,\n       8.20e+00, 8.60e+00, 1.42e+01, 1.58e+01, 1.62e+01, 1.34e+01,\n       1.44e+01, 1.18e+01, 1.56e+01, 1.52e+01, 1.16e+01, 9.60e+00,\n       6.60e+00, 6.00e-01, 6.00e+00, 3.00e+00, 2.00e+00, 5.20e+00,\n       9.00e+00, 1.02e+01, 1.00e+01, 7.40e+00, 8.40e+00, 9.20e+00,\n       9.40e+00, 1.24e+01, 1.04e+01, 7.20e+00, 6.80e+00, 7.60e+00,\n       4.40e+00, 6.40e+00, 7.80e+00, 7.00e+00, 8.80e+00, 6.20e+00,\n       5.80e+00, 2.00e-01, 2.40e+00, 1.80e+00, 2.20e+00, 2.80e+00,\n       5.00e+00, 5.60e+00, 4.80e+00, 4.20e+00, 4.00e+00, 3.20e+00,\n       4.60e+00, 3.40e+00, 3.60e+00, 0.00e+00, 1.40e+00, 3.80e+00,\n       8.00e-01, 2.60e+00, 1.60e+00, 1.20e+00, 1.00e+00, 5.40e+00,\n       1.06e+01, 1.68e+01, 1.70e+01, 2.02e+01, 1.40e+01, 1.72e+01,\n       1.22e+01, 1.50e+01, 1.82e+01, 1.32e+01, 4.10e+00, 1.70e+00,\n       4.00e-01, 1.90e+00, 6.48e+01, 3.20e+01, 2.62e+01, 2.46e+01,\n       2.33e+01, 1.54e+01, 3.26e+01, 3.04e+01, 3.44e+01, 1.80e+01,\n       4.94e+01, 1.88e+01, 1.90e+01, 1.84e+01, 8.10e+00, 4.90e+00,\n       2.52e+01, 2.40e+01, 2.24e+01, 1.66e+01, 4.88e+01, 5.62e+01,\n       3.70e+01, 5.24e+01, 1.76e+01, 6.30e+00, 2.00e+01, 2.14e+01,\n       2.50e+01, 1.78e+01, 2.56e+01, 1.86e+01, 2.16e+01, 3.54e+01,\n       2.30e+01, 2.20e+01, 3.08e+01, 1.11e+01, 1.98e+01, 3.32e+01,\n       8.62e+01, 6.58e+01, 5.64e+01, 3.12e+01, 2.18e+01, 5.70e+00,\n       2.70e+00, 1.30e+00, 2.50e+00, 3.30e+00, 9.90e+00, 2.30e+00,\n       7.00e-01, 2.10e+00, 1.10e+00, 2.90e+00, 1.50e+00, 3.10e+00,\n       6.10e+00, 1.96e+01, 9.70e+00, 1.05e+01, 5.90e+00, 9.30e+00,\n       2.04e+01, 1.21e+01, 3.06e+01, 2.42e+01, 3.00e-01, 4.72e+01,\n       1.92e+01, 3.84e+01, 3.46e+01, 2.36e+01, 4.42e+01, 3.22e+01,\n       3.14e+01, 3.42e+01, 2.06e+01, 2.68e+01, 2.26e+01, 2.38e+01,\n       3.86e+01, 2.64e+01, 4.68e+01, 4.24e+01, 4.66e+01, 6.02e+01,\n       3.76e+01, 3.64e+01, 4.84e+01, 4.36e+01, 3.50e+01, 5.04e+01,\n       3.58e+01, 5.40e+01, 4.12e+01, 3.28e+01, 3.56e+01, 3.10e+01,\n       3.24e+01, 1.94e+01, 6.08e+01, 2.74e+01, 4.34e+01, 2.70e+01,\n       3.68e+01, 2.54e+01, 5.72e+01, 2.86e+01, 3.36e+01, 3.74e+01,\n       2.34e+01, 4.30e+01, 3.62e+01, 3.16e+01, 3.92e+01, 2.58e+01,\n       6.54e+01, 4.04e+01, 2.60e+01, 2.12e+01, 7.10e+00, 7.48e+01,\n       3.72e+01, 2.88e+01, 5.30e+00, 4.70e+00, 8.70e+00, 3.90e+00,\n       3.50e+00, 9.50e+00, 9.00e-01, 3.02e+01, 1.47e+01, 1.31e+01,\n       7.50e+00, 8.30e+00, 5.10e+00, 3.70e+00, 5.50e+00, 1.81e+01,\n       4.30e+00, 2.10e+01, 3.38e+01, 4.50e+00, 2.05e+01, 1.19e+01,\n       6.90e+00, 7.70e+00, 9.10e+00, 1.09e+01, 1.97e+01, 1.01e+01,\n       6.70e+00, 5.00e-01, 1.39e+01, 1.25e+01, 1.00e-01, 1.45e+01,\n       1.91e+01, 1.71e+01, 7.30e+00, 2.51e+01, 2.22e+01, 2.72e+01,\n       1.93e+01, 6.50e+00, 2.76e+01, 1.15e+01, 2.28e+01, 2.84e+01,\n       2.08e+01, 3.94e+01, 2.78e+01, 2.82e+01, 2.66e+01, 3.30e+01,\n       2.98e+01, 2.32e+01, 3.34e+01, 2.80e+01, 3.80e+01, 4.00e+01,\n       2.92e+01, 2.94e+01, 3.88e+01, 6.44e+01, 3.00e+01, 2.44e+01,\n       2.48e+01, 5.54e+01, 5.92e+01, 1.45e+02, 4.70e+01, 8.90e+00,\n       1.35e+01, 8.50e+00, 1.13e+01, 4.40e+01, 7.90e+00, 4.44e+01,\n       2.21e+01, 3.66e+01, 3.60e+01, 3.40e+01, 1.49e+01, 4.26e+01,\n       1.43e+01, 1.03e+01, 1.17e+01, 1.07e+01, 8.12e+01, 6.30e+01,\n       7.00e+01, 5.48e+01, 5.98e+01, 7.22e+01, 6.40e+01, 5.96e+01,\n       5.90e+01, 4.23e+01, 1.27e+01, 1.77e+01, 2.25e+01, 1.53e+01,\n       3.52e+01, 3.45e+01, 2.31e+01, 4.22e+01, 8.24e+01, 4.20e+01,\n       4.32e+01, 6.20e+01, 7.73e+01, 1.33e+01, 5.52e+01, 5.80e+01,\n       5.76e+01, 5.56e+01, 4.62e+01, 5.50e+01, 5.08e+01, 5.10e+01,\n       6.88e+01, 5.16e+01, 5.85e+01, 5.58e+01, 5.36e+01, 2.55e+01,\n       5.60e+01, 4.80e+01, 7.04e+01, 5.94e+01, 5.66e+01, 1.41e+01,\n       1.23e+01, 1.51e+01, 1.65e+01, 4.18e+01, 4.08e+01, 5.02e+01,\n       4.16e+01, 4.28e+01, 3.96e+01])"
     },
     "execution_count": 9,
     "metadata": {},
     "output_type": "execute_result"
    }
   ],
   "source": [
    "df['Evaporation'].unique()"
   ]
  },
  {
   "cell_type": "code",
   "execution_count": 10,
   "id": "130a7097-098d-4b9f-a2c5-835440ad3731",
   "metadata": {
    "ExecuteTime": {
     "end_time": "2024-05-15T00:31:39.371274200Z",
     "start_time": "2024-05-15T00:31:39.297264200Z"
    }
   },
   "outputs": [
    {
     "data": {
      "text/plain": "array([ nan, 12.3, 13. , 13.3, 10.6, 12.2,  8.4,  0. , 12.6, 13.2, 12.7,\n       12.1, 10.3, 13.1, 12.9, 11.3,  6.9, 10.9,  3.7,  5.9, 10.5, 12.4,\n       13.4, 13.6,  7.4, 10. ,  2.3,  6.6,  0.3, 10.7, 11.6, 10.2,  9. ,\n       12. ,  3. ,  7.9, 11.5, 11.2,  4.8,  5.8,  6. , 11.1, 11.8, 11.4,\n       10.8,  7.8, 11. ,  5.5,  4.7,  4.2,  4.4,  6.2,  9.8,  9.9,  4.3,\n        8. ,  9.6, 10.4,  9.3,  8.7,  7.6,  7.5, 10.1,  6.3,  2.8,  0.7,\n        9.4,  9.7,  0.6,  5.1,  8.3,  4.1,  3.9,  6.8,  8.6,  2.7,  8.2,\n        3.1,  1.8,  0.1,  0.8,  3.4,  7.1,  5. ,  5.7,  6.1,  7. ,  2.9,\n        2.5,  4.6,  8.9,  9.1,  1.7,  8.1,  9.5,  1.2,  1.4,  8.8,  2.2,\n        3.5,  9.2,  1.9, 11.7, 11.9,  7.7,  0.9, 12.5,  2.1, 12.8, 13.7,\n        8.5,  0.2,  4. ,  2.4,  5.2,  0.5,  6.4,  4.5,  1.1,  2. ,  0.4,\n        1.5,  3.3,  6.5,  2.6,  3.8,  3.6,  3.2,  6.7,  5.4,  7.2,  4.9,\n        1. ,  1.6,  5.3,  7.3,  5.6,  1.3, 13.8, 13.5, 14. , 13.9, 14.1,\n       14.5, 14.3, 14.2])"
     },
     "execution_count": 10,
     "metadata": {},
     "output_type": "execute_result"
    }
   ],
   "source": [
    "df['Sunshine'].unique()"
   ]
  },
  {
   "cell_type": "code",
   "execution_count": 11,
   "id": "d61fc04c-9b20-4999-b09f-845ddce4f214",
   "metadata": {
    "ExecuteTime": {
     "end_time": "2024-05-15T00:31:39.409244600Z",
     "start_time": "2024-05-15T00:31:39.312103100Z"
    }
   },
   "outputs": [],
   "source": [
    "# change 'Evaporation' and 'Sunshine' into category data\n",
    "df['Evaporation'] = df['Evaporation'].notna().astype(int)\n",
    "df['Sunshine'] = df['Sunshine'].notna().astype(int)"
   ]
  },
  {
   "cell_type": "code",
   "execution_count": 12,
   "id": "4b1d5d89-4533-4142-a7fa-b922391e2f3d",
   "metadata": {
    "ExecuteTime": {
     "end_time": "2024-05-15T00:31:39.435907Z",
     "start_time": "2024-05-15T00:31:39.332514700Z"
    }
   },
   "outputs": [],
   "source": [
    "# change 'RainToday' and 'RainTomorrow' into category data\n",
    "df['RainToday'] = df['RainToday'].notna().astype(int)\n",
    "df['RainTomorrow'] = df['RainTomorrow'].replace({'No': 0, 'Yes': 1})\n"
   ]
  },
  {
   "cell_type": "code",
   "execution_count": 13,
   "id": "f0b71da2-f41d-4bf0-974b-fdff22f1b0a9",
   "metadata": {
    "ExecuteTime": {
     "end_time": "2024-05-15T00:31:39.468981800Z",
     "start_time": "2024-05-15T00:31:39.374380700Z"
    }
   },
   "outputs": [],
   "source": [
    "df['WindDir3pm_encoded'] = pd.factorize(df['WindDir3pm'])[0] \n",
    "df['WindDir9am_encoded'] = pd.factorize(df['WindDir9am'])[0] \n",
    "df['WindGustDir_encoded'] = pd.factorize(df['WindGustDir'])[0]     "
   ]
  },
  {
   "cell_type": "code",
   "execution_count": 14,
   "id": "6ffb3848-e81b-4d95-ac9a-555968045179",
   "metadata": {
    "ExecuteTime": {
     "end_time": "2024-05-15T00:31:41.269290600Z",
     "start_time": "2024-05-15T00:31:39.406069400Z"
    }
   },
   "outputs": [
    {
     "data": {
      "text/plain": "<Figure size 1500x1000 with 24 Axes>",
      "image/png": "[encoded data removed]"
     },
     "metadata": {},
     "output_type": "display_data"
    }
   ],
   "source": [
    "import matplotlib.pyplot as plt\n",
    "import numpy as np\n",
    "\n",
    "def plot_histograms(dataframe, columns):\n",
    "    \n",
    "    num_columns = len(columns)\n",
    "    num_rows = int(np.ceil(num_columns / 4.0))  \n",
    "\n",
    "    dataframe[columns].hist(bins=15, figsize=(15, 10), layout=(num_rows, 4))\n",
    "    plt.tight_layout()\n",
    "    plt.show()\n",
    "\n",
    "plot_histograms(df, missing_index)\n",
    "\n"
   ]
  },
  {
   "cell_type": "code",
   "execution_count": 15,
   "id": "97195170-c93e-4ee9-b9db-f61e36119908",
   "metadata": {
    "ExecuteTime": {
     "end_time": "2024-05-15T00:31:41.531065700Z",
     "start_time": "2024-05-15T00:31:41.271337Z"
    }
   },
   "outputs": [
    {
     "name": "stdout",
     "output_type": "stream",
     "text": [
      "MinTemp        0\n",
      "MaxTemp        0\n",
      "Humidity3pm    0\n",
      "Pressure9am    0\n",
      "Pressure3pm    0\n",
      "Temp9am        0\n",
      "Temp3pm        0\n",
      "dtype: int64\n"
     ]
    }
   ],
   "source": [
    "'''it seems ['MinTemp', 'MaxTemp', 'Humidity3pm', 'Pressure9am', 'Pressure3pm', 'Temp9am', 'Temp3pm'] \n",
    "have nomal distribution, so I fill the missing value with mean'''\n",
    "\n",
    "columns_to_fill = ['MinTemp', 'MaxTemp', 'Humidity3pm', 'Pressure9am', 'Pressure3pm', 'Temp9am', 'Temp3pm']\n",
    "means = df[columns_to_fill].mean()\n",
    "df[columns_to_fill] = df[columns_to_fill].fillna(means)\n",
    "print(df[columns_to_fill].isnull().sum())\n"
   ]
  },
  {
   "cell_type": "code",
   "execution_count": 16,
   "id": "415d6545-dc8f-4ed4-ad29-f2abb3b13f9f",
   "metadata": {
    "ExecuteTime": {
     "end_time": "2024-05-15T00:31:41.572450Z",
     "start_time": "2024-05-15T00:31:41.320871100Z"
    }
   },
   "outputs": [],
   "source": [
    "'''other columns fill the miss value with median & mode'''\n",
    "\n",
    "columns_to_replace = ['WindDir3pm_encoded', 'WindDir9am_encoded', 'WindGustDir_encoded']\n",
    "\n",
    "for column in columns_to_replace:\n",
    "    mode_value = df[column].mode()[0]\n",
    "    df[column] = df[column].replace(-1, mode_value)\n",
    "\n",
    "columns_to_fill = ['Rainfall', 'WindGustSpeed', 'WindSpeed9am', 'WindSpeed3pm', 'Humidity9am', 'Pressure9am', 'Cloud9am', 'Cloud3pm', 'RainToday']\n",
    "medians = df[columns_to_fill].median()\n",
    "df[columns_to_fill] = df[columns_to_fill].fillna(medians)\n"
   ]
  },
  {
   "cell_type": "code",
   "execution_count": 17,
   "id": "e8ee8c11-5ff1-4db6-b8b7-ee64f9d10189",
   "metadata": {
    "ExecuteTime": {
     "end_time": "2024-05-15T00:31:41.574537600Z",
     "start_time": "2024-05-15T00:31:41.382271800Z"
    }
   },
   "outputs": [
    {
     "name": "stdout",
     "output_type": "stream",
     "text": [
      "Location               0\n",
      "MinTemp                0\n",
      "MaxTemp                0\n",
      "Rainfall               0\n",
      "Evaporation            0\n",
      "Sunshine               0\n",
      "WindGustSpeed          0\n",
      "WindSpeed9am           0\n",
      "WindSpeed3pm           0\n",
      "Humidity9am            0\n",
      "Humidity3pm            0\n",
      "Pressure9am            0\n",
      "Pressure3pm            0\n",
      "Cloud9am               0\n",
      "Cloud3pm               0\n",
      "Temp9am                0\n",
      "Temp3pm                0\n",
      "RainToday              0\n",
      "RainTomorrow           0\n",
      "WindDir3pm_encoded     0\n",
      "WindDir9am_encoded     0\n",
      "WindGustDir_encoded    0\n",
      "dtype: int64\n"
     ]
    }
   ],
   "source": [
    "df = df.drop(['WindDir3pm', 'WindDir9am', 'WindGustDir'], axis=1)\n",
    "missing_count = df.isnull().sum()\n",
    "\n",
    "\n",
    "pd.set_option('display.max_rows', None) \n",
    "pd.set_option('display.max_columns', None)  \n",
    "pd.set_option('display.width', 1000)  \n",
    "\n",
    "print(missing_count)"
   ]
  },
  {
   "cell_type": "markdown",
   "id": "f041aa7d-e49b-4849-8972-0a7e1e96f3af",
   "metadata": {},
   "source": [
    "### 1.2 Feature scaling"
   ]
  },
  {
   "cell_type": "code",
   "execution_count": 18,
   "id": "3c32d862-e16d-43fd-a6f4-7e1e329039bd",
   "metadata": {
    "ExecuteTime": {
     "end_time": "2024-05-15T00:31:41.574537600Z",
     "start_time": "2024-05-15T00:31:41.411914200Z"
    }
   },
   "outputs": [
    {
     "name": "stdout",
     "output_type": "stream",
     "text": [
      "<class 'pandas.core.frame.DataFrame'>\n",
      "Int64Index: 142193 entries, 0 to 145458\n",
      "Data columns (total 22 columns):\n",
      " #   Column               Non-Null Count   Dtype  \n",
      "---  ------               --------------   -----  \n",
      " 0   Location             142193 non-null  object \n",
      " 1   MinTemp              142193 non-null  float64\n",
      " 2   MaxTemp              142193 non-null  float64\n",
      " 3   Rainfall             142193 non-null  float64\n",
      " 4   Evaporation          142193 non-null  int32  \n",
      " 5   Sunshine             142193 non-null  int32  \n",
      " 6   WindGustSpeed        142193 non-null  float64\n",
      " 7   WindSpeed9am         142193 non-null  float64\n",
      " 8   WindSpeed3pm         142193 non-null  float64\n",
      " 9   Humidity9am          142193 non-null  float64\n",
      " 10  Humidity3pm          142193 non-null  float64\n",
      " 11  Pressure9am          142193 non-null  float64\n",
      " 12  Pressure3pm          142193 non-null  float64\n",
      " 13  Cloud9am             142193 non-null  float64\n",
      " 14  Cloud3pm             142193 non-null  float64\n",
      " 15  Temp9am              142193 non-null  float64\n",
      " 16  Temp3pm              142193 non-null  float64\n",
      " 17  RainToday            142193 non-null  int32  \n",
      " 18  RainTomorrow         142193 non-null  int64  \n",
      " 19  WindDir3pm_encoded   142193 non-null  int64  \n",
      " 20  WindDir9am_encoded   142193 non-null  int64  \n",
      " 21  WindGustDir_encoded  142193 non-null  int64  \n",
      "dtypes: float64(14), int32(3), int64(4), object(1)\n",
      "memory usage: 23.3+ MB\n"
     ]
    }
   ],
   "source": [
    "df.info()"
   ]
  },
  {
   "cell_type": "code",
   "execution_count": 19,
   "id": "4ebcc004-c1e5-417e-a1ff-a531fa2312a7",
   "metadata": {
    "ExecuteTime": {
     "end_time": "2024-05-15T00:31:41.928583700Z",
     "start_time": "2024-05-15T00:31:41.462486600Z"
    }
   },
   "outputs": [],
   "source": [
    "from sklearn.preprocessing import LabelEncoder\n",
    "\n",
    "le = LabelEncoder()\n",
    "\n",
    "df['location_encoded'] = le.fit_transform(df['Location'])\n",
    "\n",
    "df = df.drop(['Location'],axis = 1)\n"
   ]
  },
  {
   "cell_type": "code",
   "execution_count": 20,
   "id": "b54a8711-3506-434f-8022-9264f11582f0",
   "metadata": {
    "ExecuteTime": {
     "end_time": "2024-05-15T00:31:42.111495100Z",
     "start_time": "2024-05-15T00:31:41.921521500Z"
    }
   },
   "outputs": [],
   "source": [
    "from sklearn.preprocessing import StandardScaler, OneHotEncoder\n",
    "from sklearn.compose import ColumnTransformer\n",
    "\n",
    "\n",
    "\n",
    "rain_tomorrow = df['RainTomorrow'].copy().reset_index(drop=True)\n",
    "\n",
    "\n",
    "categorical_features = ['Evaporation', 'Sunshine', 'WindDir3pm_encoded', 'WindDir9am_encoded', 'WindGustDir_encoded', 'RainToday']\n",
    "numerical_features = df.columns.difference(categorical_features + ['RainTomorrow'])  \n",
    "\n",
    "preprocessor = ColumnTransformer(\n",
    "    transformers=[\n",
    "        ('num', StandardScaler(), numerical_features),\n",
    "        ('cat', OneHotEncoder(drop='first'), categorical_features)\n",
    "    ]\n",
    ")\n",
    "\n",
    "df_transformed = preprocessor.fit_transform(df)\n",
    "\n",
    "ohe_feature_names = preprocessor.named_transformers_['cat'].get_feature_names_out()\n",
    "all_feature_names = list(numerical_features) + list(ohe_feature_names)\n",
    "\n",
    "df = pd.DataFrame(df_transformed, columns=all_feature_names)\n",
    "\n",
    "df['RainTomorrow'] = rain_tomorrow\n",
    "\n",
    "\n"
   ]
  },
  {
   "cell_type": "markdown",
   "id": "b66a6654-f916-4019-952f-72fe4b1565aa",
   "metadata": {},
   "source": [
    "## 2. Model Training"
   ]
  },
  {
   "cell_type": "markdown",
   "id": "5d14f7e1-0086-4574-a98a-0125d15933cf",
   "metadata": {},
   "source": [
    "#### 2.1 RandomForest model"
   ]
  },
  {
   "cell_type": "code",
   "execution_count": 21,
   "id": "560660e3-2b69-4a89-bb70-c5149bcbe54c",
   "metadata": {
    "ExecuteTime": {
     "end_time": "2024-05-15T00:31:42.170462800Z",
     "start_time": "2024-05-15T00:31:42.110494300Z"
    }
   },
   "outputs": [
    {
     "data": {
      "text/plain": "<Figure size 640x480 with 1 Axes>",
      "image/png": "[encoded data removed]"
     },
     "metadata": {},
     "output_type": "display_data"
    },
    {
     "data": {
      "text/plain": "'inbalanced dataset'"
     },
     "execution_count": 21,
     "metadata": {},
     "output_type": "execute_result"
    }
   ],
   "source": [
    "class_counts = df['RainTomorrow'].value_counts()\n",
    "\n",
    "labels = ['RainTomorrow = 1', 'RainTomorrow = 0']\n",
    "sizes = [class_counts.get(1, 0), class_counts.get(0, 0)]\n",
    "plt.pie(sizes, labels=labels, autopct='%1.1f%%', startangle=140)\n",
    "plt.axis('equal')\n",
    "\n",
    "plt.title('Proportion of RainTomorrow = 1 and RainTomorrow = 0')\n",
    "\n",
    "plt.show()\n",
    "\"\"\"inbalanced dataset\"\"\""
   ]
  },
  {
   "cell_type": "code",
   "execution_count": 22,
   "id": "6e9e8f76-6811-48c0-ad23-9b33a31f478c",
   "metadata": {
    "ExecuteTime": {
     "end_time": "2024-05-15T00:31:42.272377700Z",
     "start_time": "2024-05-15T00:31:42.171564900Z"
    }
   },
   "outputs": [
    {
     "name": "stdout",
     "output_type": "stream",
     "text": [
      "Training set size: (113754, 63)\n",
      "Testing set size: (28439, 63)\n"
     ]
    }
   ],
   "source": [
    "from sklearn.model_selection import train_test_split\n",
    "\n",
    "X = df.drop('RainTomorrow', axis=1)  \n",
    "y = df['RainTomorrow']  # target\n",
    "\n",
    "\n",
    "X_train, X_test, y_train, y_test = train_test_split(X, y, test_size=0.2, random_state=66)  \n",
    "\n",
    "\n",
    "print(\"Training set size:\", X_train.shape)\n",
    "print(\"Testing set size:\", X_test.shape)\n"
   ]
  },
  {
   "cell_type": "code",
   "execution_count": 23,
   "id": "14685084-b466-429b-9ea0-bb5bd5751224",
   "metadata": {
    "ExecuteTime": {
     "end_time": "2024-05-15T00:32:06.186013Z",
     "start_time": "2024-05-15T00:31:42.247961300Z"
    }
   },
   "outputs": [],
   "source": [
    "from sklearn.ensemble import RandomForestClassifier\n",
    "classifier = RandomForestClassifier(n_estimators=150, random_state=66)\n",
    "classifier.fit(X_train,y_train)\n",
    "\n",
    "ypred = classifier.predict(X_test)"
   ]
  },
  {
   "cell_type": "code",
   "execution_count": 24,
   "id": "7c7d7222-4957-4516-9e26-1397b0e63ae4",
   "metadata": {
    "ExecuteTime": {
     "end_time": "2024-05-15T00:32:09.454946700Z",
     "start_time": "2024-05-15T00:32:06.186519Z"
    }
   },
   "outputs": [
    {
     "name": "stdout",
     "output_type": "stream",
     "text": [
      "train accuracy: 0.9999472546020359\n",
      "test accuracy: 0.8542142832026443\n",
      "Classification Report on Test Data:\n",
      "               precision    recall  f1-score   support\n",
      "\n",
      "           0       0.87      0.96      0.91     21995\n",
      "           1       0.78      0.50      0.61      6444\n",
      "\n",
      "    accuracy                           0.85     28439\n",
      "   macro avg       0.82      0.73      0.76     28439\n",
      "weighted avg       0.85      0.85      0.84     28439\n"
     ]
    }
   ],
   "source": [
    "from sklearn.metrics import accuracy_score, classification_report\n",
    "\n",
    "print('train accuracy:',classifier.score(X_train,y_train))\n",
    "print('test accuracy:',accuracy_score(y_test,ypred))\n",
    "print(\"Classification Report on Test Data:\\n\", classification_report(y_test, ypred))"
   ]
  },
  {
   "cell_type": "code",
   "execution_count": 25,
   "id": "3b6b7b02-e3fa-49f6-a0b6-4da292abdcc9",
   "metadata": {
    "ExecuteTime": {
     "end_time": "2024-05-15T00:32:09.502616500Z",
     "start_time": "2024-05-15T00:32:09.459700100Z"
    }
   },
   "outputs": [],
   "source": [
    "####"
   ]
  },
  {
   "cell_type": "code",
   "execution_count": 26,
   "id": "bd354947-9527-44d6-9098-24549ee52890",
   "metadata": {
    "ExecuteTime": {
     "end_time": "2024-05-15T00:32:44.591297Z",
     "start_time": "2024-05-15T00:32:09.472340900Z"
    }
   },
   "outputs": [],
   "source": [
    "classifier = RandomForestClassifier(n_estimators=150,oob_score=True, random_state=66, class_weight='balanced_subsample')\n",
    "classifier.fit(X_train,y_train)\n",
    "ypred = classifier.predict(X_test)\n"
   ]
  },
  {
   "cell_type": "code",
   "execution_count": 27,
   "id": "497ca89b-10d5-453a-829c-16e7d5bc4a70",
   "metadata": {
    "ExecuteTime": {
     "end_time": "2024-05-15T00:32:50.036527400Z",
     "start_time": "2024-05-15T00:32:44.591297Z"
    }
   },
   "outputs": [
    {
     "name": "stdout",
     "output_type": "stream",
     "text": [
      "train accuracy: 0.9999560455016966\n",
      "test accuracy: 0.8527022750448328\n",
      "Classification Report on Test Data:\n",
      "               precision    recall  f1-score   support\n",
      "\n",
      "           0       0.86      0.96      0.91     21995\n",
      "           1       0.79      0.48      0.60      6444\n",
      "\n",
      "    accuracy                           0.85     28439\n",
      "   macro avg       0.83      0.72      0.75     28439\n",
      "weighted avg       0.85      0.85      0.84     28439\n"
     ]
    }
   ],
   "source": [
    "print('train accuracy:',classifier.score(X_train,y_train))\n",
    "print('test accuracy:',accuracy_score(y_test,ypred))\n",
    "print(\"Classification Report on Test Data:\\n\", classification_report(y_test, ypred))"
   ]
  },
  {
   "cell_type": "code",
   "execution_count": 28,
   "id": "e6a86740-86fc-4f18-86b9-044ca7267086",
   "metadata": {
    "ExecuteTime": {
     "end_time": "2024-05-15T00:32:50.091194500Z",
     "start_time": "2024-05-15T00:32:50.036527400Z"
    }
   },
   "outputs": [],
   "source": [
    "####"
   ]
  },
  {
   "cell_type": "code",
   "execution_count": 29,
   "id": "39d5a942-c141-48bc-bc15-ff7c062775f7",
   "metadata": {
    "ExecuteTime": {
     "end_time": "2024-05-15T00:33:39.876395300Z",
     "start_time": "2024-05-15T00:32:50.056392800Z"
    }
   },
   "outputs": [],
   "source": [
    "classifier = RandomForestClassifier(n_estimators=150,oob_score=False, random_state=66,class_weight='balanced')\n",
    "classifier.fit(X_train,y_train)\n",
    "ypred = classifier.predict(X_test)"
   ]
  },
  {
   "cell_type": "code",
   "execution_count": 30,
   "id": "60ada777-0bf1-4f7d-a007-258eb5276d31",
   "metadata": {
    "ExecuteTime": {
     "end_time": "2024-05-15T00:33:46.486748600Z",
     "start_time": "2024-05-15T00:33:39.876395300Z"
    }
   },
   "outputs": [
    {
     "name": "stdout",
     "output_type": "stream",
     "text": [
      "train accuracy: 0.9999472546020359\n",
      "test accuracy: 0.8517177115932346\n",
      "Classification Report on Test Data:\n",
      "               precision    recall  f1-score   support\n",
      "\n",
      "           0       0.86      0.96      0.91     21995\n",
      "           1       0.78      0.48      0.59      6444\n",
      "\n",
      "    accuracy                           0.85     28439\n",
      "   macro avg       0.82      0.72      0.75     28439\n",
      "weighted avg       0.84      0.85      0.84     28439\n"
     ]
    }
   ],
   "source": [
    "print('train accuracy:',classifier.score(X_train,y_train))\n",
    "print('test accuracy:',accuracy_score(y_test,ypred))\n",
    "print(\"Classification Report on Test Data:\\n\", classification_report(y_test, ypred))"
   ]
  },
  {
   "cell_type": "code",
   "execution_count": 31,
   "id": "9a13b717-3fe6-4daf-a7a6-e20bd222d889",
   "metadata": {
    "ExecuteTime": {
     "end_time": "2024-05-15T00:33:46.550915400Z",
     "start_time": "2024-05-15T00:33:46.486748600Z"
    }
   },
   "outputs": [],
   "source": [
    "####"
   ]
  },
  {
   "cell_type": "code",
   "execution_count": 32,
   "id": "946ceddf-de9b-4a89-95d3-0af7561d9cbf",
   "metadata": {
    "ExecuteTime": {
     "end_time": "2024-05-15T00:35:00.556087Z",
     "start_time": "2024-05-15T00:33:46.496267400Z"
    }
   },
   "outputs": [],
   "source": [
    "classifier = RandomForestClassifier(n_estimators=150,bootstrap=False, random_state=66,class_weight='balanced')\n",
    "classifier.fit(X_train,y_train)\n",
    "ypred = classifier.predict(X_test)"
   ]
  },
  {
   "cell_type": "code",
   "execution_count": 33,
   "id": "d03ec778-2f76-4746-935f-068ea312e133",
   "metadata": {
    "ExecuteTime": {
     "end_time": "2024-05-15T00:35:06.466397200Z",
     "start_time": "2024-05-15T00:35:00.547954800Z"
    }
   },
   "outputs": [
    {
     "name": "stdout",
     "output_type": "stream",
     "text": [
      "train accuracy: 0.9999560455016966\n",
      "test accuracy: 0.8539681423397447\n",
      "Classification Report on Test Data:\n",
      "               precision    recall  f1-score   support\n",
      "\n",
      "           0       0.86      0.96      0.91     21995\n",
      "           1       0.79      0.49      0.60      6444\n",
      "\n",
      "    accuracy                           0.85     28439\n",
      "   macro avg       0.83      0.72      0.76     28439\n",
      "weighted avg       0.85      0.85      0.84     28439\n"
     ]
    }
   ],
   "source": [
    "print('train accuracy:',classifier.score(X_train,y_train))\n",
    "print('test accuracy:',accuracy_score(y_test,ypred))\n",
    "print(\"Classification Report on Test Data:\\n\", classification_report(y_test, ypred))"
   ]
  },
  {
   "cell_type": "markdown",
   "id": "653ee09f-8c69-443c-a84f-50d899342ebd",
   "metadata": {},
   "source": [
    "#### 2.2 SVM model"
   ]
  },
  {
   "cell_type": "markdown",
   "id": "e131adcda0cbb31c",
   "metadata": {
    "collapsed": false
   },
   "source": []
  },
  {
   "cell_type": "code",
   "execution_count": 34,
   "id": "3518a298-580d-40ac-84f7-3fc08d32f077",
   "metadata": {
    "ExecuteTime": {
     "end_time": "2024-05-15T01:07:05.643892600Z",
     "start_time": "2024-05-15T00:35:06.466397200Z"
    }
   },
   "outputs": [
    {
     "name": "stdout",
     "output_type": "stream",
     "text": [
      "Training Accuracy: 0.8651036447069993\n",
      "Testing Accuracy: 0.8547768908892718\n",
      "Classification Report on Test Data:\n",
      "               precision    recall  f1-score   support\n",
      "\n",
      "           0       0.86      0.96      0.91     21995\n",
      "           1       0.79      0.48      0.60      6444\n",
      "\n",
      "    accuracy                           0.85     28439\n",
      "   macro avg       0.83      0.72      0.76     28439\n",
      "weighted avg       0.85      0.85      0.84     28439\n"
     ]
    }
   ],
   "source": [
    "from sklearn.svm import SVC\n",
    "from sklearn.metrics import accuracy_score, classification_report\n",
    "\n",
    "\n",
    "classifier = SVC(kernel='rbf', C=1.0, gamma='scale', random_state=66)\n",
    "classifier.fit(X_train, y_train)\n",
    "\n",
    "y_pred = classifier.predict(X_test)\n",
    "y_train_pred = classifier.predict(X_train)\n",
    "\n",
    "test_accuracy = accuracy_score(y_test, y_pred)\n",
    "train_accuracy = accuracy_score(y_train, y_train_pred)\n",
    "\n",
    "print(\"Training Accuracy:\", train_accuracy)\n",
    "print(\"Testing Accuracy:\", test_accuracy)\n",
    "\n",
    "print(\"Classification Report on Test Data:\\n\", classification_report(y_test, y_pred))"
   ]
  },
  {
   "cell_type": "code",
   "execution_count": 35,
   "id": "f15f2370-27da-433c-9cf3-72e38c3b7818",
   "metadata": {
    "ExecuteTime": {
     "end_time": "2024-05-15T01:07:05.666291300Z",
     "start_time": "2024-05-15T01:07:05.643892600Z"
    }
   },
   "outputs": [],
   "source": [
    "####"
   ]
  },
  {
   "cell_type": "code",
   "execution_count": 36,
   "id": "5ba518a2-0dfc-4be5-b040-0e92646835cb",
   "metadata": {
    "ExecuteTime": {
     "end_time": "2024-05-15T01:24:51.708606200Z",
     "start_time": "2024-05-15T01:07:05.658155100Z"
    }
   },
   "outputs": [
    {
     "name": "stdout",
     "output_type": "stream",
     "text": [
      "Training Accuracy: 0.7233415967790143\n",
      "Testing Accuracy: 0.7223179436689053\n",
      "Classification Report on Test Data:\n",
      "               precision    recall  f1-score   support\n",
      "\n",
      "           0       0.90      0.72      0.80     21995\n",
      "           1       0.43      0.73      0.54      6444\n",
      "\n",
      "    accuracy                           0.72     28439\n",
      "   macro avg       0.67      0.73      0.67     28439\n",
      "weighted avg       0.79      0.72      0.74     28439\n"
     ]
    }
   ],
   "source": [
    "classifier = SVC(kernel='sigmoid', C=1.0, gamma='auto',class_weight='balanced', random_state=66)\n",
    "classifier.fit(X_train, y_train)\n",
    "\n",
    "y_pred = classifier.predict(X_test)\n",
    "y_train_pred = classifier.predict(X_train)\n",
    "\n",
    "test_accuracy = accuracy_score(y_test, y_pred)\n",
    "train_accuracy = accuracy_score(y_train, y_train_pred)\n",
    "\n",
    "print(\"Training Accuracy:\", train_accuracy)\n",
    "print(\"Testing Accuracy:\", test_accuracy)\n",
    "\n",
    "print(\"Classification Report on Test Data:\\n\", classification_report(y_test, y_pred))"
   ]
  },
  {
   "cell_type": "code",
   "execution_count": 37,
   "id": "daf07dc4-70c9-4a1d-afc4-663d046826bc",
   "metadata": {
    "ExecuteTime": {
     "end_time": "2024-05-15T01:24:51.720156700Z",
     "start_time": "2024-05-15T01:24:51.688577500Z"
    }
   },
   "outputs": [],
   "source": [
    "####"
   ]
  },
  {
   "cell_type": "code",
   "execution_count": 38,
   "id": "f09c1e67-2381-418d-9b71-425f2cfd3ee9",
   "metadata": {
    "ExecuteTime": {
     "end_time": "2024-05-15T01:50:04.768321Z",
     "start_time": "2024-05-15T01:24:51.704672600Z"
    }
   },
   "outputs": [
    {
     "name": "stdout",
     "output_type": "stream",
     "text": [
      "Training Accuracy: 0.8651036447069993\n",
      "Testing Accuracy: 0.8547768908892718\n",
      "Classification Report on Test Data:\n",
      "               precision    recall  f1-score   support\n",
      "\n",
      "           0       0.86      0.96      0.91     21995\n",
      "           1       0.79      0.48      0.60      6444\n",
      "\n",
      "    accuracy                           0.85     28439\n",
      "   macro avg       0.83      0.72      0.76     28439\n",
      "weighted avg       0.85      0.85      0.84     28439\n"
     ]
    }
   ],
   "source": [
    "classifier = SVC(kernel='rbf', C=1.0, gamma='scale', random_state=66)\n",
    "classifier.fit(X_train, y_train)\n",
    "\n",
    "y_pred = classifier.predict(X_test)\n",
    "y_train_pred = classifier.predict(X_train)\n",
    "\n",
    "test_accuracy = accuracy_score(y_test, y_pred)\n",
    "train_accuracy = accuracy_score(y_train, y_train_pred)\n",
    "\n",
    "print(\"Training Accuracy:\", train_accuracy)\n",
    "print(\"Testing Accuracy:\", test_accuracy)\n",
    "\n",
    "print(\"Classification Report on Test Data:\\n\", classification_report(y_test, y_pred))"
   ]
  },
  {
   "cell_type": "code",
   "execution_count": 39,
   "id": "edb526720e22fe38",
   "metadata": {
    "collapsed": false,
    "ExecuteTime": {
     "end_time": "2024-05-15T01:50:04.785408700Z",
     "start_time": "2024-05-15T01:50:04.767528700Z"
    }
   },
   "outputs": [],
   "source": [
    "###"
   ]
  },
  {
   "cell_type": "code",
   "execution_count": 40,
   "id": "6ed9718c-2e5e-498a-b30f-39244d94ceb2",
   "metadata": {
    "ExecuteTime": {
     "end_time": "2024-05-15T02:19:47.549618900Z",
     "start_time": "2024-05-15T01:50:04.768321Z"
    }
   },
   "outputs": [
    {
     "name": "stdout",
     "output_type": "stream",
     "text": [
      "Training Accuracy: 0.8265379678956344\n",
      "Testing Accuracy: 0.8143394634129189\n",
      "Classification Report on Test Data:\n",
      "               precision    recall  f1-score   support\n",
      "\n",
      "           0       0.93      0.82      0.87     21995\n",
      "           1       0.56      0.80      0.66      6444\n",
      "\n",
      "    accuracy                           0.81     28439\n",
      "   macro avg       0.75      0.81      0.77     28439\n",
      "weighted avg       0.85      0.81      0.82     28439\n"
     ]
    }
   ],
   "source": [
    "classifier = SVC(kernel='rbf', C=1.0, gamma='scale', random_state=66,class_weight='balanced')\n",
    "classifier.fit(X_train, y_train)\n",
    "\n",
    "y_pred = classifier.predict(X_test)\n",
    "y_train_pred = classifier.predict(X_train)\n",
    "\n",
    "test_accuracy = accuracy_score(y_test, y_pred)\n",
    "train_accuracy = accuracy_score(y_train, y_train_pred)\n",
    "\n",
    "print(\"Training Accuracy:\", train_accuracy)\n",
    "print(\"Testing Accuracy:\", test_accuracy)\n",
    "\n",
    "print(\"Classification Report on Test Data:\\n\", classification_report(y_test, y_pred))"
   ]
  },
  {
   "cell_type": "code",
   "execution_count": 41,
   "id": "d8f97d7a-28f2-4a86-9c21-2a017ef7d64c",
   "metadata": {
    "ExecuteTime": {
     "end_time": "2024-05-15T02:36:53.761460100Z",
     "start_time": "2024-05-15T02:19:47.562657700Z"
    }
   },
   "outputs": [
    {
     "data": {
      "text/plain": "SVC(class_weight='balanced', random_state=66)"
     },
     "execution_count": 41,
     "metadata": {},
     "output_type": "execute_result"
    }
   ],
   "source": [
    "'''I chose the SVM model. Since would be the preferred choice for practical application, especially \n",
    "in scenarios where balancing false alarms and missed predictions is necessary'''\n",
    "\n",
    "\n",
    "\n",
    "mymodel = SVC(kernel='rbf', C=1.0, gamma='scale', random_state=66,class_weight='balanced')\n",
    "mymodel.fit(X_train, y_train)"
   ]
  },
  {
   "cell_type": "code",
   "execution_count": null,
   "id": "e6029e84-8383-4493-8642-bede891f52a4",
   "metadata": {},
   "outputs": [],
   "source": []
  }
 ],
 "metadata": {
  "kernelspec": {
   "display_name": "Python 3 (ipykernel)",
   "language": "python",
   "name": "python3"
  },
  "language_info": {
   "codemirror_mode": {
    "name": "ipython",
    "version": 3
   },
   "file_extension": ".py",
   "mimetype": "text/x-python",
   "name": "python",
   "nbconvert_exporter": "python",
   "pygments_lexer": "ipython3",
   "version": "3.9.18"
  }
 },
 "nbformat": 4,
 "nbformat_minor": 5
}
